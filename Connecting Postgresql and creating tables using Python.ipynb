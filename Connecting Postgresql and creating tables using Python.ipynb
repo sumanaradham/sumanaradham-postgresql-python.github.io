{
 "cells": [
  {
   "cell_type": "markdown",
   "id": "f308e17c",
   "metadata": {},
   "source": [
    "# Creating Database and tables using Python"
   ]
  },
  {
   "cell_type": "markdown",
   "id": "6b340056",
   "metadata": {},
   "source": [
    "### Import psycop2 to interact with PostgreSQL"
   ]
  },
  {
   "cell_type": "code",
   "execution_count": 235,
   "id": "3359c8b3",
   "metadata": {},
   "outputs": [
    {
     "name": "stdout",
     "output_type": "stream",
     "text": [
      "Requirement already satisfied: psycopg2 in /Users/sumanaradham/anaconda3/lib/python3.10/site-packages (2.9.6)\r\n"
     ]
    }
   ],
   "source": [
    "! pip install psycopg2"
   ]
  },
  {
   "cell_type": "code",
   "execution_count": 236,
   "id": "4d85a079",
   "metadata": {},
   "outputs": [],
   "source": [
    "import psycopg2 as p\n",
    "import pandas as pd\n",
    "import psycopg2\n",
    "from psycopg2.extras import execute_values"
   ]
  },
  {
   "cell_type": "markdown",
   "id": "65a08243",
   "metadata": {},
   "source": [
    "### Establish a connection with PostgreSQL using try and except"
   ]
  },
  {
   "cell_type": "code",
   "execution_count": 252,
   "id": "91d4f652",
   "metadata": {},
   "outputs": [
    {
     "name": "stdout",
     "output_type": "stream",
     "text": [
      "success : Db is connected\n"
     ]
    }
   ],
   "source": [
    "\n",
    "try:\n",
    "    connection = p.connect(\n",
    "    host = 'localhost',\n",
    "    port = '5432',\n",
    "    database = 'postgres',\n",
    "    user = 'postgres',\n",
    "    password = 'sumana',)\n",
    "    print(\"success : Db is connected\")\n",
    "except p.Error as e:\n",
    "    print(\"Error : Unable to make the db connection please check the db credentials\",e)\n",
    "\n"
   ]
  },
  {
   "cell_type": "markdown",
   "id": "d98118a8",
   "metadata": {},
   "source": [
    "### Use the connection and establish a cursor to execute SQL statements and retrives results"
   ]
  },
  {
   "cell_type": "code",
   "execution_count": 253,
   "id": "dc1aa08b",
   "metadata": {},
   "outputs": [
    {
     "name": "stdout",
     "output_type": "stream",
     "text": [
      "Success : cursor is established\n"
     ]
    }
   ],
   "source": [
    "\n",
    "\n",
    "try:\n",
    "    cursor = connection.cursor()\n",
    "    print(\"Success : cursor is established\")  \n",
    "except p.Error as e:\n",
    "    print(\"Error : Unable top establish the cursor to the connection\",e)\n",
    "    \n",
    "        "
   ]
  },
  {
   "cell_type": "markdown",
   "id": "2cd60ecd",
   "metadata": {},
   "source": [
    "### Set autocommit to TRUE to automatically commit the trasactions "
   ]
  },
  {
   "cell_type": "code",
   "execution_count": 254,
   "id": "9849fe6a",
   "metadata": {},
   "outputs": [],
   "source": [
    "connection.set_session(autocommit = True)\n"
   ]
  },
  {
   "cell_type": "code",
   "execution_count": 255,
   "id": "b38e4d7d",
   "metadata": {},
   "outputs": [],
   "source": [
    "database_Name = \"cancer_database\""
   ]
  },
  {
   "cell_type": "code",
   "execution_count": 256,
   "id": "ec7b699b",
   "metadata": {},
   "outputs": [
    {
     "name": "stdout",
     "output_type": "stream",
     "text": [
      "Success: deleted cancer_database\n"
     ]
    }
   ],
   "source": [
    "dropping = f\"DROP DATABASE IF EXISTS {database_Name}\"\n",
    "try:\n",
    "    cursor.execute(dropping)\n",
    "    print(\"Success: deleted {}\".format(database_Name))\n",
    "except p.Error as e:\n",
    "    print(\"Unable to drop the database: {}\".format(e))\n",
    "\n"
   ]
  },
  {
   "cell_type": "markdown",
   "id": "5cf658c6",
   "metadata": {},
   "source": [
    "### Create a new database"
   ]
  },
  {
   "cell_type": "code",
   "execution_count": 257,
   "id": "20a8b9bd",
   "metadata": {},
   "outputs": [
    {
     "name": "stdout",
     "output_type": "stream",
     "text": [
      "Success : Database created and name is  cancer_database\n"
     ]
    }
   ],
   "source": [
    "create_database = f\"CREATE DATABASE  cancer_database\"\n",
    "try:\n",
    "    cursor.execute(create_database)\n",
    "    print(\"Success : Database created and name is  {}\".format(database_Name))\n",
    "except p.Error as e:\n",
    "    print(\"Unable to create a  {}\".format(e))\n",
    " "
   ]
  },
  {
   "cell_type": "markdown",
   "id": "714d4251",
   "metadata": {},
   "source": [
    "### First Check the default connected database in your Postgresql"
   ]
  },
  {
   "cell_type": "code",
   "execution_count": 258,
   "id": "59718b79",
   "metadata": {},
   "outputs": [
    {
     "name": "stdout",
     "output_type": "stream",
     "text": [
      "My default connected database is ('postgres',)\n"
     ]
    }
   ],
   "source": [
    "cursor.execute(\"SELECT current_database();\")\n",
    "result = cursor.fetchone()\n",
    "print(\"My default connected database is {}\".format(result))\n"
   ]
  },
  {
   "cell_type": "markdown",
   "id": "13348417",
   "metadata": {},
   "source": [
    "### Close the default db connection and connect to newly created database and enable the cursor"
   ]
  },
  {
   "cell_type": "code",
   "execution_count": 259,
   "id": "78a00d38",
   "metadata": {},
   "outputs": [],
   "source": [
    "#close default connected db\n",
    "try:\n",
    "    connection.close()\n",
    "except p.Error as e:\n",
    "    print(\"your error is {}\".format(e))"
   ]
  },
  {
   "cell_type": "markdown",
   "id": "c0878a2c",
   "metadata": {},
   "source": [
    "### Connecting to  new database"
   ]
  },
  {
   "cell_type": "code",
   "execution_count": 260,
   "id": "8b2af841",
   "metadata": {},
   "outputs": [
    {
     "name": "stdout",
     "output_type": "stream",
     "text": [
      "success : Db is connected\n"
     ]
    }
   ],
   "source": [
    "# connecting to new created db\n",
    "\n",
    "try:\n",
    "    connection = p.connect(\n",
    "    host = 'localhost',\n",
    "    port = '5432',\n",
    "    database = 'cancer_database',\n",
    "    user = 'postgres',\n",
    "    password = 'sumana',)\n",
    "    print(\"success : Db is connected\")\n",
    "except p.Error as e:\n",
    "    print(\"Error : Unable to make the db connection please check the db credentials\",e)"
   ]
  },
  {
   "cell_type": "code",
   "execution_count": 262,
   "id": "d453aa01",
   "metadata": {},
   "outputs": [
    {
     "name": "stdout",
     "output_type": "stream",
     "text": [
      "Success : cursor is established\n"
     ]
    }
   ],
   "source": [
    "\n",
    "try:\n",
    "    cursor = connection.cursor()\n",
    "    print(\"Success : cursor is established\")  \n",
    "except p.Error as e:\n",
    "    print(\"Error : Unable top establish the cursor to the connection\",e)\n"
   ]
  },
  {
   "cell_type": "code",
   "execution_count": 263,
   "id": "bf58a8e4",
   "metadata": {},
   "outputs": [
    {
     "name": "stdout",
     "output_type": "stream",
     "text": [
      "My  connected database is ('cancer_database',)\n"
     ]
    }
   ],
   "source": [
    "cursor.execute(\"SELECT current_database();\")\n",
    "result = cursor.fetchone()\n",
    "print(\"My  connected database is {}\".format(result))"
   ]
  },
  {
   "cell_type": "markdown",
   "id": "99df427e",
   "metadata": {},
   "source": [
    "### Drop and Create a table"
   ]
  },
  {
   "cell_type": "code",
   "execution_count": 264,
   "id": "2fba34ae",
   "metadata": {},
   "outputs": [
    {
     "name": "stdout",
     "output_type": "stream",
     "text": [
      "Table dropped successfully!\n",
      "Table created successfully!\n"
     ]
    }
   ],
   "source": [
    "table_name = \"breast_cancer\"\n",
    "drop_table = f\"DROP TABLE IF EXISTS {table_name}\"\n",
    "\n",
    "try:\n",
    "    # Drop the table if it exists\n",
    "    cursor.execute(drop_table)\n",
    "    print(\"Table dropped successfully!\")\n",
    "\n",
    "    # Create the table\n",
    "    create_table_query = \"\"\"\n",
    "        CREATE TABLE IF NOT EXISTS breast_cancer (\n",
    "            GENDER VARCHAR(10),\n",
    "            AGE INT,\n",
    "            SMOKING INT,\n",
    "            YELLOW_FINGERS INT,\n",
    "            ANXIETY INT,\n",
    "            PEER_PRESSURE INT,\n",
    "            CHRONIC_DISEASE INT,\n",
    "            FATIGUE INT,\n",
    "            ALLERGY INT,\n",
    "            WHEEZING INT,\n",
    "            ALCOHOL_CONSUMING INT,\n",
    "            COUGHING INT,\n",
    "            SHORTNESS_OF_BREATH INT,\n",
    "            SWALLOWING_DIFFICULTY INT,\n",
    "            CHEST_PAIN INT,\n",
    "            LUNG_CANCER VARCHAR(10)\n",
    "        )\n",
    "    \"\"\"\n",
    "    cursor.execute(create_table_query)\n",
    "    print(\"Table created successfully!\")\n",
    "except psycopg2.Error as e:\n",
    "    print(\"Error: Unable to drop or create the table. \", e)\n"
   ]
  },
  {
   "cell_type": "markdown",
   "id": "f817423f",
   "metadata": {},
   "source": [
    "### insert the dataset .csv file into the table"
   ]
  },
  {
   "cell_type": "code",
   "execution_count": 265,
   "id": "361b3bf8",
   "metadata": {},
   "outputs": [
    {
     "data": {
      "text/html": [
       "<div>\n",
       "<style scoped>\n",
       "    .dataframe tbody tr th:only-of-type {\n",
       "        vertical-align: middle;\n",
       "    }\n",
       "\n",
       "    .dataframe tbody tr th {\n",
       "        vertical-align: top;\n",
       "    }\n",
       "\n",
       "    .dataframe thead th {\n",
       "        text-align: right;\n",
       "    }\n",
       "</style>\n",
       "<table border=\"1\" class=\"dataframe\">\n",
       "  <thead>\n",
       "    <tr style=\"text-align: right;\">\n",
       "      <th></th>\n",
       "      <th>GENDER</th>\n",
       "      <th>AGE</th>\n",
       "      <th>SMOKING</th>\n",
       "      <th>YELLOW_FINGERS</th>\n",
       "      <th>ANXIETY</th>\n",
       "      <th>PEER_PRESSURE</th>\n",
       "      <th>CHRONIC_DISEASE</th>\n",
       "      <th>FATIGUE</th>\n",
       "      <th>ALLERGY</th>\n",
       "      <th>WHEEZING</th>\n",
       "      <th>ALCOHOL_CONSUMING</th>\n",
       "      <th>COUGHING</th>\n",
       "      <th>SHORTNESS_OF_BREATH</th>\n",
       "      <th>SWALLOWING_DIFFICULTY</th>\n",
       "      <th>CHEST_PAIN</th>\n",
       "      <th>LUNG_CANCER</th>\n",
       "    </tr>\n",
       "  </thead>\n",
       "  <tbody>\n",
       "    <tr>\n",
       "      <th>0</th>\n",
       "      <td>M</td>\n",
       "      <td>69</td>\n",
       "      <td>1</td>\n",
       "      <td>2</td>\n",
       "      <td>2</td>\n",
       "      <td>1</td>\n",
       "      <td>1</td>\n",
       "      <td>2</td>\n",
       "      <td>1</td>\n",
       "      <td>2</td>\n",
       "      <td>2</td>\n",
       "      <td>2</td>\n",
       "      <td>2</td>\n",
       "      <td>2</td>\n",
       "      <td>2</td>\n",
       "      <td>YES</td>\n",
       "    </tr>\n",
       "    <tr>\n",
       "      <th>1</th>\n",
       "      <td>M</td>\n",
       "      <td>74</td>\n",
       "      <td>2</td>\n",
       "      <td>1</td>\n",
       "      <td>1</td>\n",
       "      <td>1</td>\n",
       "      <td>2</td>\n",
       "      <td>2</td>\n",
       "      <td>2</td>\n",
       "      <td>1</td>\n",
       "      <td>1</td>\n",
       "      <td>1</td>\n",
       "      <td>2</td>\n",
       "      <td>2</td>\n",
       "      <td>2</td>\n",
       "      <td>YES</td>\n",
       "    </tr>\n",
       "    <tr>\n",
       "      <th>2</th>\n",
       "      <td>F</td>\n",
       "      <td>59</td>\n",
       "      <td>1</td>\n",
       "      <td>1</td>\n",
       "      <td>1</td>\n",
       "      <td>2</td>\n",
       "      <td>1</td>\n",
       "      <td>2</td>\n",
       "      <td>1</td>\n",
       "      <td>2</td>\n",
       "      <td>1</td>\n",
       "      <td>2</td>\n",
       "      <td>2</td>\n",
       "      <td>1</td>\n",
       "      <td>2</td>\n",
       "      <td>NO</td>\n",
       "    </tr>\n",
       "    <tr>\n",
       "      <th>3</th>\n",
       "      <td>M</td>\n",
       "      <td>63</td>\n",
       "      <td>2</td>\n",
       "      <td>2</td>\n",
       "      <td>2</td>\n",
       "      <td>1</td>\n",
       "      <td>1</td>\n",
       "      <td>1</td>\n",
       "      <td>1</td>\n",
       "      <td>1</td>\n",
       "      <td>2</td>\n",
       "      <td>1</td>\n",
       "      <td>1</td>\n",
       "      <td>2</td>\n",
       "      <td>2</td>\n",
       "      <td>NO</td>\n",
       "    </tr>\n",
       "    <tr>\n",
       "      <th>4</th>\n",
       "      <td>F</td>\n",
       "      <td>63</td>\n",
       "      <td>1</td>\n",
       "      <td>2</td>\n",
       "      <td>1</td>\n",
       "      <td>1</td>\n",
       "      <td>1</td>\n",
       "      <td>1</td>\n",
       "      <td>1</td>\n",
       "      <td>2</td>\n",
       "      <td>1</td>\n",
       "      <td>2</td>\n",
       "      <td>2</td>\n",
       "      <td>1</td>\n",
       "      <td>1</td>\n",
       "      <td>NO</td>\n",
       "    </tr>\n",
       "    <tr>\n",
       "      <th>...</th>\n",
       "      <td>...</td>\n",
       "      <td>...</td>\n",
       "      <td>...</td>\n",
       "      <td>...</td>\n",
       "      <td>...</td>\n",
       "      <td>...</td>\n",
       "      <td>...</td>\n",
       "      <td>...</td>\n",
       "      <td>...</td>\n",
       "      <td>...</td>\n",
       "      <td>...</td>\n",
       "      <td>...</td>\n",
       "      <td>...</td>\n",
       "      <td>...</td>\n",
       "      <td>...</td>\n",
       "      <td>...</td>\n",
       "    </tr>\n",
       "    <tr>\n",
       "      <th>304</th>\n",
       "      <td>F</td>\n",
       "      <td>56</td>\n",
       "      <td>1</td>\n",
       "      <td>1</td>\n",
       "      <td>1</td>\n",
       "      <td>2</td>\n",
       "      <td>2</td>\n",
       "      <td>2</td>\n",
       "      <td>1</td>\n",
       "      <td>1</td>\n",
       "      <td>2</td>\n",
       "      <td>2</td>\n",
       "      <td>2</td>\n",
       "      <td>2</td>\n",
       "      <td>1</td>\n",
       "      <td>YES</td>\n",
       "    </tr>\n",
       "    <tr>\n",
       "      <th>305</th>\n",
       "      <td>M</td>\n",
       "      <td>70</td>\n",
       "      <td>2</td>\n",
       "      <td>1</td>\n",
       "      <td>1</td>\n",
       "      <td>1</td>\n",
       "      <td>1</td>\n",
       "      <td>2</td>\n",
       "      <td>2</td>\n",
       "      <td>2</td>\n",
       "      <td>2</td>\n",
       "      <td>2</td>\n",
       "      <td>2</td>\n",
       "      <td>1</td>\n",
       "      <td>2</td>\n",
       "      <td>YES</td>\n",
       "    </tr>\n",
       "    <tr>\n",
       "      <th>306</th>\n",
       "      <td>M</td>\n",
       "      <td>58</td>\n",
       "      <td>2</td>\n",
       "      <td>1</td>\n",
       "      <td>1</td>\n",
       "      <td>1</td>\n",
       "      <td>1</td>\n",
       "      <td>1</td>\n",
       "      <td>2</td>\n",
       "      <td>2</td>\n",
       "      <td>2</td>\n",
       "      <td>2</td>\n",
       "      <td>1</td>\n",
       "      <td>1</td>\n",
       "      <td>2</td>\n",
       "      <td>YES</td>\n",
       "    </tr>\n",
       "    <tr>\n",
       "      <th>307</th>\n",
       "      <td>M</td>\n",
       "      <td>67</td>\n",
       "      <td>2</td>\n",
       "      <td>1</td>\n",
       "      <td>2</td>\n",
       "      <td>1</td>\n",
       "      <td>1</td>\n",
       "      <td>2</td>\n",
       "      <td>2</td>\n",
       "      <td>1</td>\n",
       "      <td>2</td>\n",
       "      <td>2</td>\n",
       "      <td>2</td>\n",
       "      <td>1</td>\n",
       "      <td>2</td>\n",
       "      <td>YES</td>\n",
       "    </tr>\n",
       "    <tr>\n",
       "      <th>308</th>\n",
       "      <td>M</td>\n",
       "      <td>62</td>\n",
       "      <td>1</td>\n",
       "      <td>1</td>\n",
       "      <td>1</td>\n",
       "      <td>2</td>\n",
       "      <td>1</td>\n",
       "      <td>2</td>\n",
       "      <td>2</td>\n",
       "      <td>2</td>\n",
       "      <td>2</td>\n",
       "      <td>1</td>\n",
       "      <td>1</td>\n",
       "      <td>2</td>\n",
       "      <td>1</td>\n",
       "      <td>YES</td>\n",
       "    </tr>\n",
       "  </tbody>\n",
       "</table>\n",
       "<p>309 rows × 16 columns</p>\n",
       "</div>"
      ],
      "text/plain": [
       "    GENDER  AGE  SMOKING  YELLOW_FINGERS  ANXIETY  PEER_PRESSURE  \\\n",
       "0        M   69        1               2        2              1   \n",
       "1        M   74        2               1        1              1   \n",
       "2        F   59        1               1        1              2   \n",
       "3        M   63        2               2        2              1   \n",
       "4        F   63        1               2        1              1   \n",
       "..     ...  ...      ...             ...      ...            ...   \n",
       "304      F   56        1               1        1              2   \n",
       "305      M   70        2               1        1              1   \n",
       "306      M   58        2               1        1              1   \n",
       "307      M   67        2               1        2              1   \n",
       "308      M   62        1               1        1              2   \n",
       "\n",
       "     CHRONIC_DISEASE  FATIGUE   ALLERGY   WHEEZING  ALCOHOL_CONSUMING  \\\n",
       "0                  1         2         1         2                  2   \n",
       "1                  2         2         2         1                  1   \n",
       "2                  1         2         1         2                  1   \n",
       "3                  1         1         1         1                  2   \n",
       "4                  1         1         1         2                  1   \n",
       "..               ...       ...       ...       ...                ...   \n",
       "304                2         2         1         1                  2   \n",
       "305                1         2         2         2                  2   \n",
       "306                1         1         2         2                  2   \n",
       "307                1         2         2         1                  2   \n",
       "308                1         2         2         2                  2   \n",
       "\n",
       "     COUGHING  SHORTNESS_OF_BREATH  SWALLOWING_DIFFICULTY  CHEST_PAIN  \\\n",
       "0           2                    2                      2           2   \n",
       "1           1                    2                      2           2   \n",
       "2           2                    2                      1           2   \n",
       "3           1                    1                      2           2   \n",
       "4           2                    2                      1           1   \n",
       "..        ...                  ...                    ...         ...   \n",
       "304         2                    2                      2           1   \n",
       "305         2                    2                      1           2   \n",
       "306         2                    1                      1           2   \n",
       "307         2                    2                      1           2   \n",
       "308         1                    1                      2           1   \n",
       "\n",
       "    LUNG_CANCER  \n",
       "0           YES  \n",
       "1           YES  \n",
       "2            NO  \n",
       "3            NO  \n",
       "4            NO  \n",
       "..          ...  \n",
       "304         YES  \n",
       "305         YES  \n",
       "306         YES  \n",
       "307         YES  \n",
       "308         YES  \n",
       "\n",
       "[309 rows x 16 columns]"
      ]
     },
     "execution_count": 265,
     "metadata": {},
     "output_type": "execute_result"
    }
   ],
   "source": [
    "file = pd.read_csv(\"survey_lung_cancer.csv\")\n",
    "file"
   ]
  },
  {
   "cell_type": "code",
   "execution_count": 266,
   "id": "b2dbe897",
   "metadata": {},
   "outputs": [
    {
     "name": "stdout",
     "output_type": "stream",
     "text": [
      "[('M', 69, 1, 2, 2, 1, 1, 2, 1, 2, 2, 2, 2, 2, 2, 'YES')\n",
      " ('M', 74, 2, 1, 1, 1, 2, 2, 2, 1, 1, 1, 2, 2, 2, 'YES')\n",
      " ('F', 59, 1, 1, 1, 2, 1, 2, 1, 2, 1, 2, 2, 1, 2, 'NO')\n",
      " ('M', 63, 2, 2, 2, 1, 1, 1, 1, 1, 2, 1, 1, 2, 2, 'NO')\n",
      " ('F', 63, 1, 2, 1, 1, 1, 1, 1, 2, 1, 2, 2, 1, 1, 'NO')\n",
      " ('F', 75, 1, 2, 1, 1, 2, 2, 2, 2, 1, 2, 2, 1, 1, 'YES')\n",
      " ('M', 52, 2, 1, 1, 1, 1, 2, 1, 2, 2, 2, 2, 1, 2, 'YES')\n",
      " ('F', 51, 2, 2, 2, 2, 1, 2, 2, 1, 1, 1, 2, 2, 1, 'YES')\n",
      " ('F', 68, 2, 1, 2, 1, 1, 2, 1, 1, 1, 1, 1, 1, 1, 'NO')\n",
      " ('M', 53, 2, 2, 2, 2, 2, 1, 2, 1, 2, 1, 1, 2, 2, 'YES')\n",
      " ('F', 61, 2, 2, 2, 2, 2, 2, 1, 2, 1, 2, 2, 2, 1, 'YES')\n",
      " ('M', 72, 1, 1, 1, 1, 2, 2, 2, 2, 2, 2, 2, 1, 2, 'YES')\n",
      " ('F', 60, 2, 1, 1, 1, 1, 2, 1, 1, 1, 1, 2, 1, 1, 'NO')\n",
      " ('M', 58, 2, 1, 1, 1, 1, 2, 2, 2, 2, 2, 2, 1, 2, 'YES')\n",
      " ('M', 69, 2, 1, 1, 1, 1, 1, 2, 2, 2, 2, 1, 1, 2, 'NO')\n",
      " ('F', 48, 1, 2, 2, 2, 2, 2, 2, 2, 1, 2, 2, 2, 1, 'YES')\n",
      " ('M', 75, 2, 1, 1, 1, 2, 1, 2, 2, 2, 2, 2, 1, 2, 'YES')\n",
      " ('M', 57, 2, 2, 2, 2, 2, 1, 1, 1, 2, 1, 1, 2, 2, 'YES')\n",
      " ('F', 68, 2, 2, 2, 2, 2, 2, 1, 1, 1, 2, 2, 1, 1, 'YES')\n",
      " ('F', 61, 1, 1, 1, 1, 2, 2, 1, 1, 1, 1, 2, 1, 1, 'NO')\n",
      " ('F', 44, 2, 2, 2, 2, 2, 2, 1, 1, 1, 1, 2, 2, 1, 'YES')\n",
      " ('F', 64, 1, 2, 2, 2, 1, 1, 2, 2, 1, 2, 1, 2, 1, 'YES')\n",
      " ('F', 21, 2, 1, 1, 1, 2, 2, 2, 1, 1, 1, 2, 1, 1, 'NO')\n",
      " ('M', 60, 2, 1, 1, 1, 1, 2, 2, 2, 2, 2, 2, 1, 2, 'YES')\n",
      " ('M', 72, 2, 2, 2, 2, 2, 1, 2, 2, 2, 2, 1, 2, 2, 'YES')\n",
      " ('M', 65, 1, 2, 2, 1, 1, 2, 1, 2, 2, 2, 2, 2, 2, 'YES')\n",
      " ('F', 61, 2, 2, 2, 1, 1, 2, 2, 1, 2, 1, 2, 2, 2, 'YES')\n",
      " ('M', 69, 1, 1, 1, 2, 1, 2, 1, 2, 1, 2, 2, 1, 2, 'NO')\n",
      " ('F', 53, 2, 2, 2, 1, 2, 1, 1, 2, 2, 1, 2, 2, 2, 'YES')\n",
      " ('M', 55, 1, 2, 1, 1, 1, 2, 1, 2, 2, 2, 2, 1, 1, 'NO')\n",
      " ('F', 57, 2, 2, 1, 1, 1, 1, 1, 1, 1, 1, 2, 1, 1, 'NO')\n",
      " ('M', 62, 2, 1, 2, 1, 1, 1, 2, 2, 2, 1, 2, 2, 2, 'YES')\n",
      " ('M', 56, 2, 2, 2, 1, 1, 1, 1, 1, 1, 1, 2, 2, 1, 'NO')\n",
      " ('F', 67, 2, 2, 2, 1, 2, 1, 1, 1, 1, 1, 2, 2, 2, 'YES')\n",
      " ('M', 59, 1, 2, 2, 1, 1, 1, 1, 1, 1, 1, 1, 2, 2, 'NO')\n",
      " ('F', 59, 2, 2, 2, 1, 2, 1, 1, 1, 1, 1, 2, 2, 1, 'YES')\n",
      " ('M', 60, 1, 2, 1, 1, 2, 1, 1, 2, 1, 2, 2, 1, 2, 'YES')\n",
      " ('F', 56, 1, 1, 1, 1, 2, 1, 1, 2, 1, 1, 2, 2, 1, 'NO')\n",
      " ('M', 56, 2, 1, 1, 1, 2, 1, 1, 2, 1, 1, 2, 1, 2, 'YES')\n",
      " ('M', 60, 2, 1, 1, 1, 2, 1, 2, 2, 2, 2, 1, 1, 2, 'YES')\n",
      " ('M', 68, 2, 1, 2, 1, 1, 2, 2, 1, 2, 2, 2, 1, 2, 'YES')\n",
      " ('M', 63, 1, 1, 1, 2, 1, 2, 2, 2, 2, 1, 1, 2, 1, 'YES')\n",
      " ('F', 77, 1, 2, 2, 2, 2, 2, 1, 2, 2, 1, 1, 1, 1, 'YES')\n",
      " ('M', 52, 2, 1, 1, 2, 1, 2, 2, 2, 2, 1, 2, 1, 2, 'YES')\n",
      " ('F', 70, 2, 2, 1, 2, 2, 1, 1, 1, 2, 2, 1, 2, 1, 'YES')\n",
      " ('M', 72, 2, 2, 2, 2, 2, 2, 1, 2, 2, 2, 2, 2, 2, 'YES')\n",
      " ('M', 62, 2, 2, 1, 1, 2, 1, 2, 1, 1, 2, 2, 2, 2, 'YES')\n",
      " ('F', 64, 2, 2, 1, 2, 1, 2, 1, 2, 2, 2, 1, 2, 2, 'YES')\n",
      " ('F', 70, 1, 1, 2, 2, 2, 2, 2, 2, 2, 1, 2, 2, 2, 'YES')\n",
      " ('M', 60, 1, 1, 2, 2, 2, 1, 1, 1, 2, 1, 1, 1, 1, 'NO')\n",
      " ('F', 56, 1, 1, 1, 2, 2, 2, 2, 2, 2, 1, 1, 1, 2, 'YES')\n",
      " ('M', 63, 2, 2, 2, 1, 2, 2, 2, 2, 1, 1, 2, 1, 1, 'YES')\n",
      " ('F', 54, 2, 1, 1, 2, 1, 2, 2, 2, 2, 2, 1, 2, 2, 'YES')\n",
      " ('M', 49, 2, 1, 1, 2, 2, 2, 2, 2, 2, 2, 2, 2, 2, 'YES')\n",
      " ('F', 57, 1, 2, 1, 2, 2, 2, 2, 1, 2, 2, 1, 1, 1, 'YES')\n",
      " ('M', 52, 1, 2, 2, 1, 2, 1, 2, 2, 2, 2, 1, 2, 1, 'YES')\n",
      " ('F', 63, 1, 2, 1, 2, 1, 2, 1, 1, 1, 2, 2, 1, 2, 'YES')\n",
      " ('M', 73, 1, 1, 1, 1, 2, 1, 2, 1, 2, 2, 2, 2, 2, 'YES')\n",
      " ('M', 47, 1, 2, 1, 2, 2, 2, 1, 2, 1, 1, 2, 2, 2, 'YES')\n",
      " ('M', 69, 2, 2, 2, 2, 1, 2, 2, 1, 2, 2, 2, 1, 2, 'YES')\n",
      " ('M', 70, 1, 2, 1, 2, 2, 2, 2, 2, 2, 2, 1, 2, 2, 'YES')\n",
      " ('F', 60, 1, 2, 2, 1, 1, 1, 1, 1, 1, 2, 1, 1, 1, 'NO')\n",
      " ('M', 70, 1, 2, 1, 2, 1, 2, 2, 2, 2, 2, 1, 1, 1, 'YES')\n",
      " ('F', 68, 1, 1, 2, 1, 2, 1, 2, 2, 2, 1, 1, 2, 1, 'YES')\n",
      " ('M', 74, 1, 2, 1, 2, 1, 2, 2, 2, 2, 2, 2, 1, 2, 'YES')\n",
      " ('F', 71, 2, 2, 2, 2, 2, 2, 1, 2, 1, 2, 1, 2, 2, 'YES')\n",
      " ('F', 56, 1, 2, 1, 1, 2, 2, 2, 2, 1, 2, 2, 1, 2, 'YES')\n",
      " ('M', 66, 2, 1, 1, 1, 1, 2, 1, 2, 2, 2, 2, 1, 1, 'YES')\n",
      " ('F', 76, 2, 2, 2, 2, 1, 2, 2, 1, 1, 1, 2, 2, 2, 'YES')\n",
      " ('F', 78, 2, 2, 2, 2, 1, 2, 1, 2, 1, 2, 2, 2, 1, 'YES')\n",
      " ('M', 68, 2, 2, 2, 2, 1, 1, 2, 1, 2, 1, 1, 2, 2, 'YES')\n",
      " ('F', 66, 2, 2, 2, 2, 1, 2, 1, 2, 1, 2, 2, 2, 1, 'YES')\n",
      " ('M', 67, 1, 1, 1, 1, 2, 2, 2, 2, 2, 2, 2, 1, 2, 'YES')\n",
      " ('F', 60, 2, 1, 1, 1, 2, 2, 1, 1, 1, 1, 2, 1, 1, 'YES')\n",
      " ('M', 61, 2, 1, 1, 1, 1, 2, 2, 2, 2, 2, 2, 1, 2, 'YES')\n",
      " ('M', 58, 2, 1, 1, 1, 1, 1, 2, 2, 2, 2, 1, 1, 1, 'YES')\n",
      " ('F', 76, 1, 2, 2, 2, 2, 2, 2, 2, 1, 2, 2, 2, 2, 'YES')\n",
      " ('M', 56, 2, 1, 1, 1, 1, 2, 2, 2, 2, 2, 2, 1, 2, 'YES')\n",
      " ('M', 67, 2, 2, 2, 2, 2, 1, 1, 1, 2, 1, 1, 2, 2, 'YES')\n",
      " ('F', 73, 2, 2, 2, 2, 1, 2, 1, 1, 1, 2, 2, 2, 2, 'YES')\n",
      " ('F', 58, 1, 1, 1, 1, 1, 2, 1, 1, 1, 1, 2, 1, 1, 'NO')\n",
      " ('F', 54, 2, 2, 2, 2, 2, 2, 1, 1, 1, 1, 2, 2, 1, 'YES')\n",
      " ('F', 62, 2, 2, 2, 2, 2, 1, 2, 2, 2, 1, 1, 2, 2, 'YES')\n",
      " ('F', 81, 1, 1, 1, 2, 2, 1, 2, 1, 2, 2, 2, 1, 1, 'YES')\n",
      " ('M', 56, 1, 1, 1, 1, 2, 2, 2, 1, 2, 2, 2, 1, 2, 'YES')\n",
      " ('M', 60, 1, 2, 2, 1, 1, 1, 1, 2, 2, 2, 2, 2, 1, 'YES')\n",
      " ('M', 66, 1, 2, 2, 1, 2, 1, 2, 1, 2, 2, 2, 1, 2, 'YES')\n",
      " ('M', 62, 1, 2, 2, 1, 1, 2, 1, 2, 1, 1, 1, 2, 2, 'YES')\n",
      " ('F', 62, 2, 2, 2, 1, 2, 1, 2, 1, 2, 1, 1, 1, 1, 'YES')\n",
      " ('F', 55, 2, 1, 1, 2, 2, 2, 2, 2, 2, 1, 1, 2, 2, 'YES')\n",
      " ('F', 62, 1, 1, 1, 2, 1, 1, 1, 2, 2, 1, 1, 2, 2, 'YES')\n",
      " ('F', 71, 1, 1, 1, 1, 2, 2, 2, 1, 1, 2, 2, 1, 2, 'YES')\n",
      " ('M', 52, 2, 1, 1, 1, 2, 2, 2, 2, 2, 1, 1, 2, 2, 'YES')\n",
      " ('F', 59, 1, 2, 2, 2, 2, 1, 2, 2, 2, 2, 2, 2, 1, 'YES')\n",
      " ('M', 48, 2, 1, 1, 1, 2, 2, 2, 1, 2, 2, 2, 2, 2, 'YES')\n",
      " ('M', 60, 1, 2, 2, 2, 1, 2, 1, 1, 1, 1, 1, 2, 2, 'YES')\n",
      " ('F', 61, 2, 2, 2, 1, 1, 1, 2, 1, 2, 2, 2, 1, 2, 'YES')\n",
      " ('M', 59, 2, 1, 1, 2, 1, 1, 1, 1, 2, 2, 2, 1, 1, 'YES')\n",
      " ('M', 64, 1, 2, 2, 2, 1, 2, 2, 1, 1, 2, 1, 2, 1, 'YES')\n",
      " ('M', 56, 2, 1, 1, 1, 1, 2, 2, 2, 2, 2, 2, 1, 2, 'YES')\n",
      " ('M', 58, 2, 1, 1, 1, 1, 1, 2, 2, 2, 2, 1, 1, 1, 'YES')\n",
      " ('F', 81, 1, 2, 2, 2, 2, 2, 2, 2, 1, 2, 2, 2, 2, 'YES')\n",
      " ('M', 64, 2, 1, 1, 1, 1, 2, 2, 2, 2, 2, 2, 1, 2, 'YES')\n",
      " ('M', 62, 2, 2, 2, 2, 2, 1, 1, 1, 2, 1, 1, 2, 2, 'YES')\n",
      " ('F', 72, 2, 2, 2, 2, 1, 2, 1, 1, 1, 2, 2, 2, 2, 'YES')\n",
      " ('F', 60, 1, 1, 1, 1, 2, 2, 1, 1, 1, 1, 2, 1, 1, 'YES')\n",
      " ('F', 61, 2, 2, 2, 2, 2, 2, 1, 1, 1, 1, 2, 2, 1, 'YES')\n",
      " ('F', 60, 2, 2, 2, 2, 2, 1, 2, 2, 2, 1, 1, 2, 2, 'YES')\n",
      " ('F', 49, 1, 1, 1, 2, 2, 1, 2, 1, 2, 2, 2, 1, 1, 'YES')\n",
      " ('M', 53, 1, 1, 1, 1, 2, 2, 2, 1, 2, 1, 2, 1, 2, 'YES')\n",
      " ('M', 58, 1, 2, 2, 1, 1, 2, 1, 2, 2, 2, 2, 2, 2, 'YES')\n",
      " ('M', 61, 2, 2, 2, 1, 1, 2, 2, 1, 2, 1, 2, 2, 2, 'YES')\n",
      " ('F', 68, 1, 1, 1, 2, 1, 2, 1, 2, 1, 2, 2, 1, 2, 'YES')\n",
      " ('M', 60, 2, 2, 2, 1, 1, 1, 1, 1, 2, 1, 1, 2, 2, 'YES')\n",
      " ('F', 72, 1, 2, 1, 1, 1, 2, 1, 2, 2, 2, 2, 1, 1, 'YES')\n",
      " ('F', 72, 1, 2, 1, 1, 2, 2, 2, 2, 1, 2, 2, 1, 1, 'YES')\n",
      " ('M', 57, 2, 1, 1, 1, 1, 2, 1, 2, 2, 2, 2, 1, 2, 'YES')\n",
      " ('F', 51, 2, 2, 2, 2, 1, 2, 2, 1, 1, 1, 2, 2, 1, 'YES')\n",
      " ('F', 54, 2, 2, 2, 2, 1, 2, 1, 2, 1, 2, 2, 2, 1, 'YES')\n",
      " ('F', 56, 1, 2, 2, 2, 1, 1, 2, 1, 2, 1, 1, 2, 2, 'YES')\n",
      " ('M', 77, 2, 2, 2, 2, 1, 2, 1, 2, 1, 2, 2, 2, 1, 'YES')\n",
      " ('M', 64, 1, 1, 1, 1, 2, 2, 2, 2, 2, 2, 2, 1, 2, 'YES')\n",
      " ('M', 57, 2, 1, 2, 1, 2, 2, 1, 1, 1, 1, 2, 1, 1, 'YES')\n",
      " ('F', 66, 2, 2, 2, 1, 2, 2, 2, 2, 2, 2, 2, 1, 1, 'YES')\n",
      " ('M', 70, 2, 1, 1, 1, 1, 1, 2, 1, 2, 2, 1, 1, 2, 'YES')\n",
      " ('F', 53, 1, 2, 2, 2, 2, 2, 2, 1, 1, 2, 2, 1, 1, 'YES')\n",
      " ('M', 51, 2, 1, 1, 1, 1, 2, 1, 2, 2, 2, 2, 1, 2, 'YES')\n",
      " ('M', 58, 2, 2, 2, 2, 2, 1, 1, 1, 2, 1, 1, 2, 2, 'YES')\n",
      " ('F', 58, 2, 2, 2, 2, 1, 2, 1, 1, 1, 2, 2, 2, 1, 'YES')\n",
      " ('F', 63, 1, 1, 1, 1, 2, 2, 1, 1, 1, 1, 2, 1, 1, 'NO')\n",
      " ('F', 51, 2, 2, 2, 2, 1, 2, 1, 1, 1, 1, 2, 2, 1, 'YES')\n",
      " ('F', 61, 1, 2, 2, 2, 1, 1, 2, 2, 1, 2, 1, 2, 1, 'YES')\n",
      " ('F', 61, 2, 1, 1, 1, 2, 2, 2, 1, 1, 1, 2, 1, 1, 'YES')\n",
      " ('M', 76, 2, 1, 1, 1, 1, 2, 2, 2, 2, 2, 2, 1, 2, 'YES')\n",
      " ('M', 71, 2, 2, 2, 1, 2, 1, 2, 2, 2, 2, 1, 2, 2, 'YES')\n",
      " ('M', 69, 1, 1, 2, 1, 1, 2, 1, 2, 2, 2, 2, 2, 1, 'YES')\n",
      " ('F', 56, 2, 2, 2, 1, 1, 2, 2, 1, 1, 1, 2, 1, 2, 'YES')\n",
      " ('M', 67, 1, 1, 1, 2, 1, 2, 1, 2, 1, 2, 2, 1, 2, 'YES')\n",
      " ('F', 54, 2, 2, 2, 1, 2, 1, 1, 2, 2, 1, 2, 2, 2, 'YES')\n",
      " ('M', 63, 1, 2, 1, 1, 1, 2, 1, 2, 2, 2, 2, 1, 1, 'YES')\n",
      " ('F', 47, 2, 2, 1, 2, 2, 2, 2, 2, 1, 2, 2, 1, 1, 'YES')\n",
      " ('M', 62, 2, 1, 2, 1, 1, 2, 1, 2, 2, 2, 2, 1, 2, 'YES')\n",
      " ('M', 65, 2, 2, 2, 2, 1, 2, 2, 1, 1, 1, 2, 2, 1, 'YES')\n",
      " ('F', 63, 2, 2, 2, 2, 2, 2, 2, 2, 1, 2, 2, 2, 2, 'YES')\n",
      " ('M', 64, 1, 2, 2, 2, 1, 1, 2, 1, 2, 1, 1, 2, 2, 'YES')\n",
      " ('F', 65, 2, 2, 2, 2, 1, 2, 1, 2, 1, 2, 2, 2, 1, 'YES')\n",
      " ('M', 51, 1, 2, 1, 1, 2, 2, 2, 2, 2, 2, 2, 1, 2, 'YES')\n",
      " ('F', 56, 1, 1, 1, 2, 2, 2, 1, 1, 2, 2, 2, 2, 1, 'YES')\n",
      " ('M', 70, 2, 1, 1, 1, 1, 2, 2, 2, 2, 2, 2, 1, 2, 'YES')\n",
      " ('M', 58, 2, 1, 1, 1, 1, 1, 2, 2, 2, 2, 1, 1, 2, 'YES')\n",
      " ('M', 67, 2, 1, 2, 1, 1, 2, 2, 1, 2, 2, 2, 1, 2, 'YES')\n",
      " ('M', 62, 1, 1, 1, 2, 1, 2, 2, 2, 2, 1, 1, 2, 1, 'YES')\n",
      " ('F', 74, 1, 2, 2, 2, 2, 2, 1, 2, 2, 1, 1, 1, 1, 'YES')\n",
      " ('M', 69, 2, 1, 1, 2, 1, 1, 1, 1, 1, 1, 1, 1, 2, 'NO')\n",
      " ('F', 64, 2, 2, 1, 2, 2, 1, 1, 1, 1, 1, 1, 1, 1, 'NO')\n",
      " ('M', 75, 2, 2, 2, 2, 2, 1, 1, 1, 1, 1, 1, 1, 2, 'YES')\n",
      " ('M', 47, 2, 2, 1, 1, 2, 1, 1, 1, 1, 1, 1, 1, 2, 'NO')\n",
      " ('F', 57, 2, 2, 1, 2, 1, 1, 1, 1, 1, 1, 1, 1, 2, 'NO')\n",
      " ('F', 56, 1, 1, 2, 2, 2, 2, 2, 2, 2, 1, 2, 2, 2, 'YES')\n",
      " ('M', 68, 1, 1, 2, 2, 2, 1, 1, 1, 2, 1, 1, 1, 1, 'NO')\n",
      " ('F', 55, 1, 1, 1, 2, 2, 2, 2, 2, 2, 1, 1, 1, 2, 'YES')\n",
      " ('M', 62, 2, 2, 2, 1, 2, 2, 2, 2, 1, 1, 2, 1, 1, 'YES')\n",
      " ('F', 73, 2, 1, 1, 2, 1, 2, 2, 2, 2, 2, 1, 2, 2, 'YES')\n",
      " ('M', 68, 2, 1, 1, 2, 2, 2, 2, 2, 2, 2, 2, 2, 2, 'YES')\n",
      " ('F', 75, 1, 2, 1, 2, 2, 2, 2, 1, 2, 2, 1, 1, 1, 'YES')\n",
      " ('M', 63, 1, 2, 2, 1, 2, 1, 2, 2, 2, 2, 1, 2, 1, 'YES')\n",
      " ('F', 61, 1, 2, 1, 2, 1, 2, 1, 1, 1, 2, 2, 1, 2, 'YES')\n",
      " ('M', 62, 1, 1, 1, 1, 2, 1, 2, 1, 2, 2, 2, 2, 2, 'YES')\n",
      " ('M', 44, 1, 2, 1, 2, 2, 2, 1, 2, 1, 1, 2, 2, 2, 'YES')\n",
      " ('M', 56, 2, 2, 2, 2, 1, 2, 2, 1, 2, 2, 2, 1, 2, 'YES')\n",
      " ('M', 54, 1, 2, 1, 2, 2, 2, 2, 2, 2, 2, 1, 2, 2, 'YES')\n",
      " ('F', 57, 1, 2, 2, 1, 1, 1, 1, 1, 1, 2, 1, 1, 1, 'NO')\n",
      " ('M', 56, 1, 2, 1, 2, 1, 2, 2, 2, 2, 2, 1, 1, 1, 'YES')\n",
      " ('F', 69, 1, 1, 2, 1, 2, 1, 2, 2, 2, 1, 1, 2, 1, 'YES')\n",
      " ('M', 72, 1, 2, 1, 2, 1, 2, 2, 2, 2, 2, 2, 1, 2, 'YES')\n",
      " ('F', 59, 2, 2, 2, 2, 2, 2, 1, 2, 1, 2, 1, 2, 2, 'YES')\n",
      " ('F', 70, 1, 2, 1, 1, 2, 2, 2, 2, 1, 2, 2, 1, 2, 'YES')\n",
      " ('M', 64, 2, 1, 1, 1, 1, 2, 1, 2, 2, 2, 2, 1, 1, 'YES')\n",
      " ('F', 61, 2, 2, 2, 2, 1, 2, 2, 1, 1, 1, 2, 2, 2, 'YES')\n",
      " ('F', 72, 2, 2, 2, 2, 1, 2, 1, 2, 1, 2, 2, 2, 1, 'YES')\n",
      " ('M', 63, 2, 2, 2, 2, 1, 1, 2, 1, 2, 1, 1, 2, 2, 'YES')\n",
      " ('F', 74, 2, 2, 2, 2, 1, 2, 1, 2, 1, 2, 2, 2, 1, 'YES')\n",
      " ('M', 71, 1, 1, 1, 1, 2, 2, 2, 2, 2, 2, 2, 1, 2, 'YES')\n",
      " ('F', 71, 2, 1, 1, 1, 2, 2, 1, 1, 1, 1, 2, 1, 1, 'NO')\n",
      " ('M', 72, 2, 1, 1, 1, 1, 2, 2, 2, 2, 2, 2, 1, 2, 'YES')\n",
      " ('M', 77, 2, 1, 1, 1, 1, 1, 2, 2, 2, 2, 1, 1, 1, 'YES')\n",
      " ('F', 72, 1, 2, 2, 2, 2, 2, 1, 1, 1, 1, 1, 1, 1, 'YES')\n",
      " ('M', 55, 2, 1, 1, 1, 1, 2, 1, 1, 1, 1, 1, 1, 1, 'YES')\n",
      " ('M', 65, 2, 2, 2, 2, 2, 1, 1, 1, 1, 1, 1, 1, 1, 'YES')\n",
      " ('F', 67, 2, 2, 2, 2, 1, 2, 1, 1, 1, 1, 1, 1, 1, 'YES')\n",
      " ('F', 69, 1, 1, 1, 1, 2, 2, 1, 1, 1, 1, 1, 1, 1, 'YES')\n",
      " ('F', 55, 2, 2, 2, 2, 2, 2, 1, 1, 1, 1, 1, 1, 1, 'YES')\n",
      " ('F', 51, 2, 2, 2, 2, 2, 1, 1, 1, 1, 1, 1, 1, 1, 'YES')\n",
      " ('F', 64, 1, 1, 1, 2, 2, 1, 1, 1, 1, 1, 1, 1, 1, 'YES')\n",
      " ('M', 63, 1, 1, 1, 1, 2, 2, 2, 1, 2, 2, 2, 1, 2, 'YES')\n",
      " ('M', 69, 1, 2, 2, 1, 1, 1, 1, 2, 2, 2, 2, 2, 1, 'YES')\n",
      " ('M', 64, 1, 2, 2, 1, 2, 1, 2, 1, 2, 2, 2, 1, 2, 'YES')\n",
      " ('M', 59, 1, 2, 2, 1, 1, 2, 1, 2, 1, 1, 1, 2, 2, 'YES')\n",
      " ('F', 73, 2, 2, 2, 1, 2, 1, 2, 1, 2, 1, 1, 1, 1, 'YES')\n",
      " ('F', 55, 2, 1, 1, 2, 2, 2, 2, 2, 2, 1, 1, 2, 2, 'YES')\n",
      " ('F', 63, 1, 1, 1, 2, 1, 1, 1, 2, 2, 1, 1, 2, 2, 'YES')\n",
      " ('F', 60, 1, 1, 1, 1, 2, 2, 2, 1, 1, 2, 2, 1, 2, 'YES')\n",
      " ('M', 74, 2, 1, 1, 1, 2, 2, 2, 2, 2, 1, 1, 2, 2, 'YES')\n",
      " ('F', 65, 1, 2, 2, 2, 2, 1, 2, 2, 2, 2, 2, 2, 1, 'YES')\n",
      " ('M', 79, 2, 1, 1, 1, 2, 2, 2, 1, 2, 2, 2, 2, 2, 'YES')\n",
      " ('M', 62, 1, 2, 2, 2, 1, 2, 1, 1, 1, 1, 1, 2, 2, 'YES')\n",
      " ('F', 71, 2, 2, 2, 1, 1, 1, 2, 1, 2, 2, 2, 1, 2, 'YES')\n",
      " ('M', 63, 2, 1, 1, 2, 1, 1, 1, 1, 1, 2, 2, 1, 1, 'NO')\n",
      " ('M', 67, 1, 2, 2, 2, 1, 2, 2, 1, 1, 2, 1, 2, 1, 'YES')\n",
      " ('M', 55, 2, 1, 1, 1, 1, 2, 2, 2, 2, 2, 2, 1, 2, 'YES')\n",
      " ('M', 54, 2, 1, 1, 1, 1, 1, 2, 2, 2, 2, 1, 1, 1, 'YES')\n",
      " ('F', 77, 1, 2, 2, 2, 2, 2, 2, 2, 1, 2, 2, 2, 2, 'YES')\n",
      " ('M', 58, 2, 1, 1, 1, 1, 2, 2, 2, 2, 2, 2, 1, 2, 'YES')\n",
      " ('M', 64, 2, 2, 2, 2, 2, 1, 1, 1, 2, 1, 1, 2, 2, 'YES')\n",
      " ('F', 61, 2, 2, 2, 2, 1, 2, 1, 1, 1, 2, 2, 2, 2, 'YES')\n",
      " ('F', 62, 1, 1, 1, 1, 2, 2, 1, 1, 1, 1, 2, 1, 1, 'NO')\n",
      " ('F', 67, 2, 2, 2, 2, 2, 2, 1, 1, 1, 1, 2, 2, 1, 'YES')\n",
      " ('F', 56, 2, 2, 2, 2, 2, 1, 2, 2, 2, 1, 1, 2, 2, 'YES')\n",
      " ('F', 70, 1, 1, 1, 2, 2, 1, 2, 1, 2, 2, 2, 1, 1, 'YES')\n",
      " ('M', 70, 1, 1, 1, 1, 2, 2, 2, 1, 2, 2, 2, 1, 2, 'YES')\n",
      " ('F', 57, 1, 1, 2, 2, 2, 2, 2, 2, 2, 1, 2, 2, 2, 'YES')\n",
      " ('M', 61, 1, 1, 2, 2, 2, 1, 1, 1, 2, 1, 1, 1, 1, 'NO')\n",
      " ('F', 77, 1, 1, 1, 2, 2, 2, 2, 2, 2, 1, 1, 1, 2, 'YES')\n",
      " ('M', 63, 2, 2, 2, 1, 2, 2, 2, 2, 1, 1, 2, 1, 1, 'YES')\n",
      " ('F', 62, 2, 1, 1, 2, 1, 2, 2, 2, 2, 2, 1, 2, 2, 'YES')\n",
      " ('M', 59, 2, 1, 1, 2, 2, 2, 2, 2, 2, 2, 2, 2, 2, 'YES')\n",
      " ('F', 70, 1, 2, 1, 2, 2, 2, 2, 1, 2, 2, 1, 1, 1, 'YES')\n",
      " ('M', 71, 1, 2, 2, 1, 2, 1, 2, 2, 2, 2, 1, 2, 1, 'YES')\n",
      " ('F', 56, 1, 2, 1, 2, 1, 2, 1, 1, 1, 2, 2, 1, 2, 'YES')\n",
      " ('M', 57, 1, 1, 1, 1, 2, 1, 2, 1, 2, 2, 2, 2, 2, 'YES')\n",
      " ('M', 78, 1, 2, 1, 2, 2, 2, 1, 2, 1, 1, 2, 2, 2, 'YES')\n",
      " ('M', 64, 2, 2, 2, 2, 1, 2, 2, 1, 2, 2, 2, 1, 2, 'YES')\n",
      " ('M', 62, 1, 2, 1, 2, 2, 2, 2, 2, 2, 2, 1, 2, 2, 'YES')\n",
      " ('F', 49, 1, 2, 2, 1, 1, 1, 1, 1, 1, 2, 1, 1, 1, 'YES')\n",
      " ('M', 77, 1, 2, 1, 2, 1, 2, 2, 2, 2, 2, 1, 1, 1, 'YES')\n",
      " ('F', 64, 1, 1, 2, 1, 2, 1, 2, 2, 2, 1, 1, 2, 1, 'YES')\n",
      " ('M', 63, 1, 2, 1, 2, 1, 2, 2, 2, 2, 2, 2, 1, 2, 'YES')\n",
      " ('F', 54, 2, 2, 2, 2, 2, 2, 1, 2, 1, 2, 1, 2, 2, 'YES')\n",
      " ('F', 38, 1, 2, 1, 1, 2, 2, 2, 2, 1, 2, 2, 1, 2, 'YES')\n",
      " ('F', 75, 1, 2, 2, 2, 1, 1, 2, 2, 1, 2, 1, 2, 1, 'YES')\n",
      " ('F', 70, 2, 1, 1, 2, 2, 1, 2, 1, 1, 1, 2, 1, 1, 'YES')\n",
      " ('M', 59, 2, 1, 1, 1, 1, 2, 2, 2, 2, 2, 2, 1, 2, 'YES')\n",
      " ('M', 77, 2, 2, 2, 1, 2, 1, 2, 2, 1, 1, 1, 2, 2, 'YES')\n",
      " ('M', 61, 1, 1, 2, 1, 2, 2, 1, 2, 2, 2, 2, 2, 1, 'YES')\n",
      " ('F', 64, 2, 2, 2, 1, 1, 2, 2, 1, 1, 1, 2, 1, 2, 'YES')\n",
      " ('M', 59, 1, 1, 1, 2, 1, 2, 1, 2, 1, 1, 2, 1, 2, 'NO')\n",
      " ('F', 71, 2, 2, 2, 1, 2, 1, 1, 2, 2, 1, 2, 2, 2, 'YES')\n",
      " ('M', 67, 1, 2, 1, 1, 1, 2, 1, 2, 2, 2, 2, 1, 1, 'YES')\n",
      " ('F', 64, 2, 2, 1, 2, 2, 2, 2, 2, 1, 2, 2, 1, 1, 'YES')\n",
      " ('M', 68, 2, 1, 2, 1, 1, 2, 1, 1, 1, 1, 1, 1, 1, 'NO')\n",
      " ('M', 69, 2, 2, 2, 2, 1, 2, 2, 1, 1, 1, 2, 2, 1, 'YES')\n",
      " ('F', 64, 2, 2, 2, 2, 2, 2, 2, 2, 1, 2, 2, 2, 2, 'YES')\n",
      " ('M', 59, 1, 2, 2, 2, 2, 1, 2, 1, 2, 1, 1, 2, 2, 'YES')\n",
      " ('F', 67, 2, 2, 2, 2, 1, 2, 1, 2, 1, 2, 2, 2, 1, 'YES')\n",
      " ('M', 74, 1, 2, 1, 1, 2, 2, 2, 2, 2, 2, 2, 1, 2, 'YES')\n",
      " ('F', 77, 1, 1, 1, 2, 2, 2, 1, 1, 2, 2, 2, 2, 1, 'YES')\n",
      " ('M', 60, 2, 1, 1, 1, 1, 2, 2, 2, 2, 2, 2, 1, 2, 'YES')\n",
      " ('M', 64, 2, 1, 1, 1, 1, 1, 2, 2, 2, 2, 1, 1, 2, 'YES')\n",
      " ('M', 70, 2, 1, 2, 1, 1, 2, 2, 1, 2, 2, 2, 1, 2, 'YES')\n",
      " ('M', 58, 1, 1, 1, 2, 1, 2, 2, 2, 2, 1, 1, 2, 1, 'YES')\n",
      " ('F', 59, 1, 2, 2, 2, 2, 2, 1, 2, 2, 1, 1, 1, 1, 'YES')\n",
      " ('M', 39, 2, 1, 1, 2, 1, 2, 2, 2, 2, 1, 2, 1, 2, 'YES')\n",
      " ('F', 67, 1, 2, 1, 1, 1, 1, 1, 2, 1, 2, 2, 1, 1, 'NO')\n",
      " ('F', 71, 1, 2, 1, 1, 2, 2, 2, 2, 1, 2, 2, 1, 1, 'YES')\n",
      " ('M', 70, 2, 1, 1, 1, 1, 2, 1, 2, 2, 2, 2, 1, 2, 'YES')\n",
      " ('F', 60, 2, 2, 2, 2, 1, 2, 2, 1, 1, 1, 2, 2, 1, 'YES')\n",
      " ('F', 55, 2, 1, 2, 1, 1, 2, 1, 1, 1, 1, 1, 1, 1, 'NO')\n",
      " ('M', 60, 2, 2, 2, 2, 2, 1, 2, 1, 2, 1, 1, 2, 2, 'YES')\n",
      " ('F', 55, 2, 2, 2, 2, 2, 2, 1, 2, 1, 2, 2, 2, 1, 'YES')\n",
      " ('M', 55, 1, 1, 1, 1, 2, 2, 2, 2, 2, 2, 2, 1, 2, 'YES')\n",
      " ('F', 70, 2, 1, 1, 1, 1, 2, 1, 1, 1, 1, 2, 1, 1, 'NO')\n",
      " ('M', 63, 2, 1, 1, 1, 1, 2, 2, 2, 2, 2, 2, 1, 2, 'YES')\n",
      " ('M', 64, 2, 1, 1, 1, 1, 1, 2, 2, 2, 2, 1, 1, 2, 'NO')\n",
      " ('F', 59, 1, 2, 2, 2, 2, 2, 2, 2, 1, 2, 2, 2, 1, 'YES')\n",
      " ('M', 56, 2, 1, 1, 1, 2, 1, 2, 2, 2, 2, 2, 1, 2, 'YES')\n",
      " ('M', 64, 2, 2, 2, 2, 2, 1, 1, 1, 2, 1, 1, 2, 2, 'YES')\n",
      " ('F', 62, 2, 2, 2, 2, 2, 2, 1, 1, 1, 2, 2, 1, 1, 'YES')\n",
      " ('F', 87, 1, 1, 1, 1, 2, 2, 1, 1, 1, 1, 2, 1, 1, 'NO')\n",
      " ('F', 77, 2, 2, 2, 2, 2, 2, 1, 1, 1, 1, 2, 2, 1, 'YES')\n",
      " ('F', 59, 1, 2, 2, 2, 1, 1, 2, 2, 1, 2, 1, 2, 1, 'YES')\n",
      " ('F', 59, 2, 1, 1, 1, 2, 2, 2, 1, 1, 1, 2, 1, 1, 'NO')\n",
      " ('M', 55, 2, 1, 1, 1, 1, 2, 2, 1, 1, 1, 2, 1, 2, 'NO')\n",
      " ('M', 46, 1, 2, 2, 1, 1, 1, 1, 1, 1, 1, 1, 2, 2, 'NO')\n",
      " ('M', 60, 1, 2, 2, 1, 1, 2, 1, 2, 2, 2, 2, 2, 2, 'YES')\n",
      " ('M', 58, 2, 2, 2, 2, 2, 1, 1, 1, 2, 1, 1, 2, 2, 'YES')\n",
      " ('F', 58, 2, 2, 2, 2, 1, 2, 1, 1, 1, 2, 2, 2, 1, 'YES')\n",
      " ('F', 63, 1, 1, 1, 1, 2, 2, 1, 1, 1, 1, 2, 1, 1, 'NO')\n",
      " ('F', 51, 2, 2, 2, 2, 1, 2, 1, 1, 1, 1, 2, 2, 1, 'YES')\n",
      " ('F', 61, 1, 2, 2, 2, 1, 1, 2, 2, 1, 2, 1, 2, 1, 'YES')\n",
      " ('F', 61, 2, 1, 1, 1, 2, 2, 2, 1, 1, 1, 2, 1, 1, 'YES')\n",
      " ('M', 76, 2, 1, 1, 1, 1, 2, 2, 2, 2, 2, 2, 1, 2, 'YES')\n",
      " ('M', 71, 2, 2, 2, 1, 2, 1, 2, 2, 2, 2, 1, 2, 2, 'YES')\n",
      " ('M', 69, 1, 1, 2, 1, 1, 2, 1, 2, 2, 2, 2, 2, 1, 'YES')\n",
      " ('F', 56, 2, 2, 2, 1, 1, 2, 2, 1, 1, 1, 2, 1, 2, 'YES')\n",
      " ('M', 67, 1, 1, 1, 2, 1, 2, 1, 2, 1, 2, 2, 1, 2, 'YES')\n",
      " ('F', 54, 2, 2, 2, 1, 2, 1, 1, 2, 2, 1, 2, 2, 2, 'YES')\n",
      " ('M', 63, 1, 2, 1, 1, 1, 2, 1, 2, 2, 2, 2, 1, 1, 'YES')\n",
      " ('F', 47, 2, 2, 1, 2, 2, 2, 2, 2, 1, 2, 2, 1, 1, 'YES')\n",
      " ('M', 62, 2, 1, 2, 1, 1, 2, 1, 2, 2, 2, 2, 1, 2, 'YES')\n",
      " ('M', 65, 2, 2, 2, 2, 1, 2, 2, 1, 1, 1, 2, 2, 1, 'YES')\n",
      " ('F', 63, 2, 2, 2, 2, 2, 2, 2, 2, 1, 2, 2, 2, 2, 'YES')\n",
      " ('M', 64, 1, 2, 2, 2, 1, 1, 2, 1, 2, 1, 1, 2, 2, 'YES')\n",
      " ('F', 65, 2, 2, 2, 2, 1, 2, 1, 2, 1, 2, 2, 2, 1, 'YES')\n",
      " ('M', 51, 1, 2, 1, 1, 2, 2, 2, 2, 2, 2, 2, 1, 2, 'YES')\n",
      " ('F', 56, 1, 1, 1, 2, 2, 2, 1, 1, 2, 2, 2, 2, 1, 'YES')\n",
      " ('M', 70, 2, 1, 1, 1, 1, 2, 2, 2, 2, 2, 2, 1, 2, 'YES')\n",
      " ('M', 58, 2, 1, 1, 1, 1, 1, 2, 2, 2, 2, 1, 1, 2, 'YES')\n",
      " ('M', 67, 2, 1, 2, 1, 1, 2, 2, 1, 2, 2, 2, 1, 2, 'YES')\n",
      " ('M', 62, 1, 1, 1, 2, 1, 2, 2, 2, 2, 1, 1, 2, 1, 'YES')]\n",
      "<class 'numpy.recarray'>\n"
     ]
    }
   ],
   "source": [
    "records = file.to_records(index = False)\n",
    "print(records)\n",
    "print(type(records))"
   ]
  },
  {
   "cell_type": "markdown",
   "id": "162693ee",
   "metadata": {},
   "source": [
    "### Delete the Existing data if it has!"
   ]
  },
  {
   "cell_type": "code",
   "execution_count": 270,
   "id": "bbf826c2",
   "metadata": {},
   "outputs": [
    {
     "name": "stdout",
     "output_type": "stream",
     "text": [
      " Success: Existing data deleted successfully !\n"
     ]
    }
   ],
   "source": [
    "# Delete existing data from the table\n",
    "delete_query = f\"DELETE FROM {table_name}\"\n",
    "\n",
    "try:\n",
    "    cursor.execute(delete_query)\n",
    "    connection.commit()\n",
    "    print(\" Success: Existing data deleted successfully !\")\n",
    "except p.Error as e:\n",
    "    print(\" Error : Unable to delete the existing data\", e)"
   ]
  },
  {
   "cell_type": "markdown",
   "id": "4045d260",
   "metadata": {},
   "source": [
    "### Convert the records into integer data type "
   ]
  },
  {
   "cell_type": "code",
   "execution_count": 273,
   "id": "afd9ec1b",
   "metadata": {},
   "outputs": [],
   "source": [
    "\n",
    "converted_records = []\n",
    "for record in records:\n",
    "    converted_values = []\n",
    "    for value in record:\n",
    "        try:\n",
    "            converted_value = int(value)\n",
    "        except (ValueError , TypeError):\n",
    "            converted_value = value\n",
    "        converted_values.append(converted_value)\n",
    "        converted_records.append(converted_values)\n"
   ]
  },
  {
   "cell_type": "markdown",
   "id": "1062f216",
   "metadata": {},
   "source": [
    "### Insert the data into the table"
   ]
  },
  {
   "cell_type": "code",
   "execution_count": 274,
   "id": "8012652f",
   "metadata": {},
   "outputs": [
    {
     "name": "stdout",
     "output_type": "stream",
     "text": [
      "Data inserted successfully!\n"
     ]
    }
   ],
   "source": [
    "# Insert the data into the table\n",
    "data = converted_records\n",
    "insert_query = f\"INSERT INTO {table_name} VALUES %s\"\n",
    "\n",
    "try:\n",
    "    execute_values(cursor, insert_query, data)\n",
    "    connection.commit()\n",
    "    print(\"Data inserted successfully!\")\n",
    "except psycopg2.Error as e:\n",
    "    print(\"Error: Unable to insert data. \", e)"
   ]
  },
  {
   "cell_type": "markdown",
   "id": "61733abf",
   "metadata": {},
   "source": [
    "### Follow the steps to check the data in postgre sql command prompt\n",
    " #### \\l → to check the existing databases present in the postgre\n",
    " ####  \\c < database-name > → connect to the newly created database\n",
    " #### \\dt → to check all the the existing tables present in the database\n",
    " ####  SELECT * FROM < table-name>  → Finally check the data in  a table \n"
   ]
  },
  {
   "cell_type": "code",
   "execution_count": null,
   "id": "a256382c",
   "metadata": {},
   "outputs": [],
   "source": []
  }
 ],
 "metadata": {
  "kernelspec": {
   "display_name": "Python 3 (ipykernel)",
   "language": "python",
   "name": "python3"
  },
  "language_info": {
   "codemirror_mode": {
    "name": "ipython",
    "version": 3
   },
   "file_extension": ".py",
   "mimetype": "text/x-python",
   "name": "python",
   "nbconvert_exporter": "python",
   "pygments_lexer": "ipython3",
   "version": "3.10.9"
  }
 },
 "nbformat": 4,
 "nbformat_minor": 5
}
